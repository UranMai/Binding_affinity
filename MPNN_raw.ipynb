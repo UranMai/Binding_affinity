{
  "nbformat": 4,
  "nbformat_minor": 0,
  "metadata": {
    "colab": {
      "name": "MPNN_raw.ipynb",
      "provenance": [],
      "authorship_tag": "ABX9TyP8dIC5T9zsEDkz35slx1nG",
      "include_colab_link": true
    },
    "kernelspec": {
      "name": "python3",
      "display_name": "Python 3"
    },
    "accelerator": "GPU"
  },
  "cells": [
    {
      "cell_type": "markdown",
      "metadata": {
        "id": "view-in-github",
        "colab_type": "text"
      },
      "source": [
        "<a href=\"https://colab.research.google.com/github/UranMai/Binding_affinity/blob/master/MPNN_raw.ipynb\" target=\"_parent\"><img src=\"https://colab.research.google.com/assets/colab-badge.svg\" alt=\"Open In Colab\"/></a>"
      ]
    },
    {
      "cell_type": "markdown",
      "metadata": {
        "id": "2zLVi86OsTGl",
        "colab_type": "text"
      },
      "source": [
        "# Installing PyTorch Geometric and RDKit \n"
      ]
    },
    {
      "cell_type": "code",
      "metadata": {
        "id": "pOo9ecnVWwyf",
        "colab_type": "code",
        "colab": {}
      },
      "source": [
        "!pip install --verbose --no-cache-dir torch-scatter \n",
        "!pip install --verbose --no-cache-dir torch-sparse \n",
        "!pip install --verbose --no-cache-dir torch-cluster \n",
        "!pip install --verbose --no-cache-dir torch-spline-conv\n",
        "!pip install torch-geometric"
      ],
      "execution_count": 0,
      "outputs": []
    },
    {
      "cell_type": "code",
      "metadata": {
        "id": "f3CO--wNW8yt",
        "colab_type": "code",
        "colab": {}
      },
      "source": [
        "!pip install torch-scatter==latest+cu101 torch-sparse==latest+cu101 torch-spline-conv==latest+cu101 -f https://s3.eu-central-1.amazonaws.com/pytorch-geometric.com/whl/torch-1.4.0.html\n"
      ],
      "execution_count": 0,
      "outputs": []
    },
    {
      "cell_type": "code",
      "metadata": {
        "id": "pnWuo7zmXEgq",
        "colab_type": "code",
        "colab": {
          "base_uri": "https://localhost:8080/",
          "height": 33
        },
        "outputId": "5d97f69b-ddb0-4eaf-b1c9-a2c8b576d255"
      },
      "source": [
        "import torch\n",
        "print(torch.__version__)\n",
        "torch.cuda.is_available()\n",
        "\n",
        "\n",
        "from torch.nn import Sequential as Seq, Linear, ReLU\n",
        "from torch_geometric.nn import MessagePassing\n",
        "from torch_geometric.utils import remove_self_loops\n",
        "\n",
        "from torch_geometric.utils import add_self_loops\n",
        "from torch_geometric.data import Data\n",
        "\n",
        "import numpy as np\n",
        "import pandas as pd\n",
        "import pickle\n",
        "import csv\n",
        "import os\n",
        "import torch\n",
        "from torch_geometric.data import Data\n",
        "from torch_geometric.data import DataLoader"
      ],
      "execution_count": 5,
      "outputs": [
        {
          "output_type": "stream",
          "text": [
            "1.4.0\n"
          ],
          "name": "stdout"
        }
      ]
    },
    {
      "cell_type": "code",
      "metadata": {
        "id": "Un_K_HdFXHaM",
        "colab_type": "code",
        "colab": {}
      },
      "source": [
        "#Install rdkit library for molecules\n",
        "!wget -c https://repo.continuum.io/miniconda/Miniconda3-latest-Linux-x86_64.sh\n",
        "!chmod +x Miniconda3-latest-Linux-x86_64.sh\n",
        "!time bash ./Miniconda3-latest-Linux-x86_64.sh -b -f -p /usr/local\n",
        "!time conda install -q -y -c conda-forge rdkit\n",
        "\n",
        "import sys\n",
        "sys.path.append('/usr/local/lib/python3.7/site-packages/')\n",
        "\n",
        "from rdkit import Chem\n",
        "from rdkit.Chem import Draw\n",
        "from rdkit.Chem.Draw import IPythonConsole\n",
        "from rdkit.Chem import Descriptors\n",
        "from rdkit.Chem import AllChem\n",
        "from rdkit import DataStructs"
      ],
      "execution_count": 0,
      "outputs": []
    },
    {
      "cell_type": "markdown",
      "metadata": {
        "id": "xd1dbZqbsh_t",
        "colab_type": "text"
      },
      "source": [
        "# Data preparation"
      ]
    },
    {
      "cell_type": "code",
      "metadata": {
        "id": "i2HSZPL4bxkt",
        "colab_type": "code",
        "colab": {}
      },
      "source": [
        "from __future__ import division\n",
        "from __future__ import unicode_literals\n",
        "import multiprocessing\n",
        "import logging\n",
        "\n",
        "# following code was borrowed from deepchem\n",
        "# https://raw.githubusercontent.com/deepchem/deepchem/master/deepchem/feat/graph_features.py\n",
        " \n",
        " \n",
        "def one_of_k_encoding(x, allowable_set):\n",
        "  if x not in allowable_set:\n",
        "    raise Exception(\"input {0} not in allowable set{1}:\".format(\n",
        "        x, allowable_set))\n",
        "  return list(map(lambda s: x == s, allowable_set))\n",
        " \n",
        " \n",
        "def one_of_k_encoding_unk(x, allowable_set):\n",
        "  \"\"\"Maps inputs not in the allowable set to the last element.\"\"\"\n",
        "  if x not in allowable_set:\n",
        "    x = allowable_set[-1]\n",
        "  return list(map(lambda s: x == s, allowable_set))\n",
        " \n",
        " \n",
        "def get_intervals(l):\n",
        "  \"\"\"For list of lists, gets the cumulative products of the lengths\"\"\"\n",
        "  intervals = len(l) * [0]\n",
        "  # Initalize with 1\n",
        "  intervals[0] = 1\n",
        "  for k in range(1, len(l)):\n",
        "    intervals[k] = (len(l[k]) + 1) * intervals[k - 1]\n",
        " \n",
        "  return intervals\n",
        " \n",
        " \n",
        "def safe_index(l, e):\n",
        "  \"\"\"Gets the index of e in l, providing an index of len(l) if not found\"\"\"\n",
        "  try:\n",
        "    return l.index(e) # return the index of element in list\n",
        "  except:\n",
        "    return len(l)\n",
        " \n",
        " \n",
        "possible_atom_list = [\n",
        "    'C', 'N', 'O', 'S', 'F', 'P', 'Cl', 'Mg', 'Na', 'Br', 'Fe', 'Ca', 'Cu',\n",
        "    'Mc', 'Pd', 'Pb', 'K', 'I', 'Al', 'Ni', 'Mn'\n",
        "]\n",
        "possible_numH_list = [0, 1, 2, 3, 4]\n",
        "possible_valence_list = [0, 1, 2, 3, 4, 5, 6]\n",
        "possible_formal_charge_list = [-3, -2, -1, 0, 1, 2, 3]\n",
        "possible_hybridization_list = [\n",
        "    Chem.rdchem.HybridizationType.SP, Chem.rdchem.HybridizationType.SP2,\n",
        "    Chem.rdchem.HybridizationType.SP3, Chem.rdchem.HybridizationType.SP3D,\n",
        "    Chem.rdchem.HybridizationType.SP3D2\n",
        "]\n",
        "possible_number_radical_e_list = [0, 1, 2]\n",
        "possible_chirality_list = ['R', 'S']\n",
        " \n",
        "reference_lists = [\n",
        "    possible_atom_list, possible_numH_list, possible_valence_list,\n",
        "    possible_formal_charge_list, possible_number_radical_e_list,\n",
        "    possible_hybridization_list, possible_chirality_list]\n",
        " \n",
        "intervals = get_intervals(reference_lists)\n",
        " \n",
        " \n",
        "def get_feature_list(atom):\n",
        "  features = 6 * [0]\n",
        "  features[0] = safe_index(possible_atom_list, atom.GetSymbol())\n",
        "  features[1] = safe_index(possible_numH_list, atom.GetTotalNumHs())\n",
        "  features[2] = safe_index(possible_valence_list, atom.GetImplicitValence())\n",
        "  features[3] = safe_index(possible_formal_charge_list, atom.GetFormalCharge())\n",
        "  features[4] = safe_index(possible_number_radical_e_list, atom.GetNumRadicalElectrons())\n",
        "  features[5] = safe_index(possible_hybridization_list, atom.GetHybridization())\n",
        "  #features[6] = safe_index(possible_chirality_list, atom.)\n",
        "  return features\n",
        " \n",
        " \n",
        "def features_to_id(features, intervals):\n",
        "  \"\"\"Convert list of features into index using spacings provided in intervals\"\"\"\n",
        "  id = 0\n",
        "  for k in range(len(intervals)):\n",
        "    id += features[k] * intervals[k]\n",
        " \n",
        "  # Allow 0 index to correspond to null molecule 1\n",
        "  id = id + 1\n",
        "  return id\n",
        " \n",
        " \n",
        "def id_to_features(id, intervals):\n",
        "  features = 6 * [0]\n",
        " \n",
        "  # Correct for null\n",
        "  id -= 1\n",
        " \n",
        "  for k in range(0, 6 - 1):\n",
        "    # print(6-k-1, id)\n",
        "    features[6 - k - 1] = id // intervals[6 - k - 1]\n",
        "    id -= features[6 - k - 1] * intervals[6 - k - 1]\n",
        "  # Correct for last one\n",
        "  features[0] = id\n",
        "  return features\n",
        " \n",
        " \n",
        "def atom_to_id(atom):\n",
        "  \"\"\"Return a unique id corresponding to the atom type\"\"\"\n",
        "  features = get_feature_list(atom)\n",
        "  return features_to_id(features, intervals)\n",
        " \n",
        " \n",
        "def atom_features(atom,\n",
        "                  bool_id_feat=False,\n",
        "                  explicit_H=False,\n",
        "                  use_chirality=False):\n",
        "  if bool_id_feat:\n",
        "    return np.array([atom_to_id(atom)])\n",
        "  else:\n",
        "    from rdkit import Chem\n",
        "    results = one_of_k_encoding_unk(\n",
        "      atom.GetSymbol(),\n",
        "      [\n",
        "        'C','N', 'O','S','F','Si','P','Cl','Br','Mg', 'Na','Ca','Fe','As', 'Al','I','B','V', 'K','Tl','Yb','Sb',\n",
        "        'Sn','Ag', 'Pd','Co', 'Se', 'Ti','Zn','H',  'Li', 'Ge', 'Cu', 'Au','Ni','Cd','In','Mn', 'Zr','Cr','Pt','Hg', 'Pb', 'Unknown'\n",
        "      ]) + one_of_k_encoding(atom.GetDegree(),\n",
        "                             [0, 1, 2, 3, 4, 5, 6, 7, 8, 9, 10]) + \\\n",
        "              one_of_k_encoding_unk(atom.GetImplicitValence(), [0, 1, 2, 3, 4, 5, 6]) + \\\n",
        "              [atom.GetFormalCharge(), atom.GetNumRadicalElectrons()] + \\\n",
        "              one_of_k_encoding_unk(atom.GetHybridization(), [\n",
        "                Chem.rdchem.HybridizationType.SP, Chem.rdchem.HybridizationType.SP2,\n",
        "                Chem.rdchem.HybridizationType.SP3, Chem.rdchem.HybridizationType.\n",
        "                                    SP3D, Chem.rdchem.HybridizationType.SP3D2\n",
        "              ]) + [atom.GetIsAromatic()]\n",
        "    # In case of explicit hydrogen(QM8, QM9), avoid calling `GetTotalNumHs`\n",
        "    if not explicit_H:\n",
        "      #results = results + list(atom.GetTotalNumHs())\n",
        "      results = results + one_of_k_encoding_unk(atom.GetTotalNumHs(),[0, 1, 2, 3, 4])\n",
        "    if use_chirality:\n",
        "      try:\n",
        "        results = results + one_of_k_encoding_unk(\n",
        "            atom.GetProp('_CIPCode'),\n",
        "            ['R', 'S']) + [atom.HasProp('_ChiralityPossible')]\n",
        "      except:\n",
        "        results = results + [False, False\n",
        "                            ] + [atom.HasProp('_ChiralityPossible')]\n",
        " \n",
        "    return np.array(results)\n",
        " \n",
        "def bond_features(bond, use_chirality=False):\n",
        "  from rdkit import Chem\n",
        "  bt = bond.GetBondType()\n",
        "  bond_feats = [\n",
        "      bt == Chem.rdchem.BondType.SINGLE, bt == Chem.rdchem.BondType.DOUBLE,\n",
        "      bt == Chem.rdchem.BondType.TRIPLE, bt == Chem.rdchem.BondType.AROMATIC,\n",
        "      bond.GetIsConjugated(),\n",
        "      bond.IsInRing()\n",
        "  ]\n",
        "  if use_chirality:\n",
        "    bond_feats = bond_feats + one_of_k_encoding_unk(\n",
        "        str(bond.GetStereo()),\n",
        "        [\"STEREONONE\", \"STEREOANY\", \"STEREOZ\", \"STEREOE\"])\n",
        "  return np.array(bond_feats)\n",
        " \n",
        "\n",
        "def get_bond_pair(mol):\n",
        "  bonds = mol.GetBonds()\n",
        "  res = [[],[]]\n",
        "  for bond in bonds:\n",
        "    res[0] += [bond.GetBeginAtomIdx(), bond.GetEndAtomIdx()]\n",
        "    res[1] += [bond.GetEndAtomIdx(), bond.GetBeginAtomIdx()]\n",
        "  return res\n",
        " \n",
        "def mol2vec(mol):\n",
        "  atoms = mol.GetAtoms()\n",
        "  bonds = mol.GetBonds()\n",
        "  node_f= [atom_features(atom) for atom in atoms] #array for each atom in molecule\n",
        "  edge_index = get_bond_pair(mol)\n",
        "  edge_attr = [bond_features(bond, use_chirality=False) for bond in bonds]\n",
        "  for bond in bonds: \n",
        "    edge_attr.append(bond_features(bond))\n",
        "  data = Data(x=torch.tensor(node_f, dtype=torch.float),\n",
        "              edge_index=torch.tensor(edge_index, dtype=torch.long),\n",
        "              edge_attr=torch.tensor(edge_attr,dtype=torch.float)\n",
        "              )\n",
        "  #y=torch.tensor()\n",
        "  return data"
      ],
      "execution_count": 0,
      "outputs": []
    },
    {
      "cell_type": "code",
      "metadata": {
        "id": "P8bF41KQb8gN",
        "colab_type": "code",
        "colab": {}
      },
      "source": [
        "train = pd.read_csv('train_data.csv', index_col=0)\n",
        "valid = pd.read_csv('valid_data.csv', index_col=0)\n",
        "test = pd.read_csv('test_data.csv', index_col=0)\n",
        "\n",
        "train_data = train.drop(train[train.Score>0].index)\n",
        "valid_data = valid.drop(valid[valid.Score>0].index)\n",
        "test_data = test.drop(test[test.Score>0].index)"
      ],
      "execution_count": 0,
      "outputs": []
    },
    {
      "cell_type": "code",
      "metadata": {
        "id": "SklkPXFwcgWx",
        "colab_type": "code",
        "colab": {}
      },
      "source": [
        "train_X = [mol2vec(Chem.MolFromSmiles(m)) for m in train_data.smi]\n",
        "for i, data in enumerate(train_X):\n",
        "    y = train_data.Score.values[i]\n",
        "    data.y = torch.tensor([y], dtype=torch.float)\n",
        "\n",
        "valid_X = [mol2vec(Chem.MolFromSmiles(m)) for m in valid_data.smi]\n",
        "for i, data in enumerate(valid_X):\n",
        "    y = valid_data.Score.values[i]\n",
        "    data.y = torch.tensor([y], dtype=torch.float)\n",
        "\n",
        "test_X = [mol2vec(Chem.MolFromSmiles(m)) for m in test_data.smi]\n",
        "for i, data in enumerate(test_X):\n",
        "    y = test_data.Score.values[i]\n",
        "    data.y = torch.tensor([y], dtype=torch.float)\n",
        "\n",
        "train_loader = DataLoader(train_X, batch_size=64, shuffle=False)\n",
        "valid_loader = DataLoader(valid_X, batch_size=64, shuffle=False)\n",
        "test_loader = DataLoader(test_X, batch_size=64, shuffle=False)"
      ],
      "execution_count": 0,
      "outputs": []
    },
    {
      "cell_type": "markdown",
      "metadata": {
        "id": "1v84YBwNsovl",
        "colab_type": "text"
      },
      "source": [
        "# NN Model"
      ]
    },
    {
      "cell_type": "code",
      "metadata": {
        "id": "GJ7x-gIAdTLO",
        "colab_type": "code",
        "colab": {}
      },
      "source": [
        "import torch\n",
        "import torch.nn.functional as F\n",
        "from torch.nn import Sequential, Linear, ReLU, GRU\n",
        "\n",
        "import torch_geometric.transforms as T\n",
        "from torch_geometric.nn import NNConv, Set2Set #NNConv (implemented MPNN); Set2Set \n",
        "from torch_geometric.data import DataLoader\n",
        "from torch_geometric.utils import remove_self_loops\n",
        "\n",
        "#n_features = 75\n",
        "#dim = 64\n",
        "\n",
        "class Net(torch.nn.Module):\n",
        "  def __init__(self, node_dim=75, dim=64):\n",
        "    super(Net, self).__init__()\n",
        "    #super(Net, self).__init__(self, input_dimensions,...)\n",
        "\n",
        "    self.lin0 = torch.nn.Linear(node_dim, dim) #[n-node_dim]\n",
        "    nn = Sequential(Linear(6, 128),  #[edge_input_dimensions]\n",
        "                    ReLU(), \n",
        "                    Linear(128, dim*dim)) #NN for edge features\n",
        "    #self.conv = NNConv(dim, dim, nn, aggr = 'add') #agger='add'/n_features or dim size?? [64,64]\n",
        "    self.conv = NNConv(in_channels=dim, out_channels=dim, nn=nn, aggr='add')\n",
        "    self.gru = GRU(dim, dim)\n",
        "\n",
        "    self.set2set = Set2Set(dim, processing_steps=3, num_layers=1) #return data twice dimensionality of input data [64,128]\n",
        "    self.lin1 = torch.nn.Linear(2*dim, dim)\n",
        "    self.lin2 = torch.nn.Linear(dim, 1)\n",
        "    #self.lin2 = torch.nn.Linear(dim, 2) #for 2 labels classifications\n",
        "\n",
        "  def forward(self, data): #one of the batches of data\n",
        "\n",
        "    out = F.relu(self.lin0(data.x)) #[2430,64]\n",
        "    h = out.unsqueeze(0) #[1,2430,64]\n",
        "\n",
        "    for i in range(3):\n",
        "            m = F.relu(self.conv(out, data.edge_index, data.edge_attr)) #[2430,64]\n",
        "            out, h = self.gru(m.unsqueeze(0), h)\n",
        "            #out[1,2430,64] and h[1,2430,64]\n",
        "            out = out.squeeze(0) #[2430,64]\n",
        "\n",
        "    out = self.set2set(out, data.batch) #[101,128]\n",
        "    out = F.relu(self.lin1(out)) #[101,64]\n",
        "    out = self.lin2(out)#[101,1]\n",
        "\n",
        "    #2dimensional classification\n",
        "    #out1 = F.log_softmax(out, dim=1) #for classification 0 or 1\n",
        "    return out.view(-1) #reshape[101]\n",
        "    #return out1\n",
        "\n",
        "device = torch.device('cuda' if torch.cuda.is_available() else 'cpu')\n",
        "model = Net().to(device)\n",
        "optimizer = torch.optim.Adam(model.parameters(), lr=0.001)\n",
        "scheduler = torch.optim.lr_scheduler.ReduceLROnPlateau(optimizer, mode='min',\n",
        "                                                       factor=0.5, patience=3,\n",
        "                                                       min_lr=0.00001)"
      ],
      "execution_count": 0,
      "outputs": []
    },
    {
      "cell_type": "code",
      "metadata": {
        "id": "Of3RmVQRdaEl",
        "colab_type": "code",
        "colab": {
          "base_uri": "https://localhost:8080/",
          "height": 147
        },
        "outputId": "a0f11bd2-d863-42d5-994b-3c435d2261fd"
      },
      "source": [
        "model.state_dict"
      ],
      "execution_count": 16,
      "outputs": [
        {
          "output_type": "execute_result",
          "data": {
            "text/plain": [
              "<bound method Module.state_dict of Net(\n",
              "  (lin0): Linear(in_features=75, out_features=64, bias=True)\n",
              "  (conv): NNConv(64, 64)\n",
              "  (gru): GRU(64, 64)\n",
              "  (set2set): Set2Set(64, 128)\n",
              "  (lin1): Linear(in_features=128, out_features=64, bias=True)\n",
              "  (lin2): Linear(in_features=64, out_features=1, bias=True)\n",
              ")>"
            ]
          },
          "metadata": {
            "tags": []
          },
          "execution_count": 16
        }
      ]
    },
    {
      "cell_type": "code",
      "metadata": {
        "id": "EJnO8LnHdeNi",
        "colab_type": "code",
        "colab": {}
      },
      "source": [
        "def train(epoch):\n",
        "    model.train()\n",
        "    loss_all = 0\n",
        "\n",
        "    for data in train_loader:\n",
        "        data = data.to(device)\n",
        "        optimizer.zero_grad()\n",
        "        loss = F.mse_loss(model(data), data.y)\n",
        "        loss.backward()\n",
        "        loss_all += loss.item() * data.num_graphs\n",
        "        optimizer.step()\n",
        "    return loss_all / len(train_loader.dataset)\n",
        "\n",
        "\n",
        "def test(loader):\n",
        "    model.eval()\n",
        "    error = 0\n",
        "    \n",
        "    for data in loader:\n",
        "        data = data.to(device)\n",
        "        pred = model(data)\n",
        "        error += F.l1_loss(pred, data.y).item()\n",
        "    return error / len(loader.dataset)\n",
        "\n",
        "def target(loader):\n",
        "  model.eval()\n",
        "  targets = dict()\n",
        "  for data in loader:\n",
        "      data = data.to(device)\n",
        "      y_pred = model(data)\n",
        "      for i in range(len(data.y)):\n",
        "          targets[data.y[i].item()] = y_pred[i].tolist()\n",
        "  return targets"
      ],
      "execution_count": 0,
      "outputs": []
    },
    {
      "cell_type": "code",
      "metadata": {
        "id": "SzTKfdspfEZ6",
        "colab_type": "code",
        "colab": {
          "base_uri": "https://localhost:8080/",
          "height": 813
        },
        "outputId": "643e2d05-1049-4bdb-e94e-5ae913d4c28d"
      },
      "source": [
        "\n",
        "for epoch in range(1, 50):\n",
        "    lr = scheduler.optimizer.param_groups[0]['lr']\n",
        "    loss = train(epoch)\n",
        "    val_error = test(valid_loader)\n",
        "    scheduler.step(val_error)\n",
        "    test_error = test(test_loader)\n",
        "    \n",
        "\n",
        "    print('Epoch: {:03d}, LR: {:7f}, Loss: {:.7f}, Validation MAE: {:.7f}, '\n",
        "          'Test MAE: {:.7f}'.format(epoch, lr, loss, val_error, test_error))"
      ],
      "execution_count": 23,
      "outputs": [
        {
          "output_type": "stream",
          "text": [
            "Epoch: 001, LR: 0.001000, Loss: 38.5556554, Validation MAE: 0.0785755, Test MAE: 0.0786766\n",
            "Epoch: 002, LR: 0.001000, Loss: 38.1768868, Validation MAE: 0.0766935, Test MAE: 0.0762547\n",
            "Epoch: 003, LR: 0.001000, Loss: 33.9818320, Validation MAE: 0.0710252, Test MAE: 0.0709330\n",
            "Epoch: 004, LR: 0.001000, Loss: 30.9873640, Validation MAE: 0.0712743, Test MAE: 0.0702325\n",
            "Epoch: 005, LR: 0.001000, Loss: 30.6431082, Validation MAE: 0.0700573, Test MAE: 0.0684754\n",
            "Epoch: 006, LR: 0.001000, Loss: 29.9651621, Validation MAE: 0.0703559, Test MAE: 0.0694870\n",
            "Epoch: 007, LR: 0.001000, Loss: 29.8974156, Validation MAE: 0.0697751, Test MAE: 0.0687942\n",
            "Epoch: 008, LR: 0.001000, Loss: 29.6243362, Validation MAE: 0.0699147, Test MAE: 0.0690220\n",
            "Epoch: 009, LR: 0.001000, Loss: 29.4682259, Validation MAE: 0.0685920, Test MAE: 0.0677712\n",
            "Epoch: 010, LR: 0.001000, Loss: 29.1240075, Validation MAE: 0.0686913, Test MAE: 0.0682060\n",
            "Epoch: 011, LR: 0.001000, Loss: 28.9688830, Validation MAE: 0.0684111, Test MAE: 0.0676825\n",
            "Epoch: 012, LR: 0.001000, Loss: 28.8384185, Validation MAE: 0.0683119, Test MAE: 0.0667353\n",
            "Epoch: 013, LR: 0.001000, Loss: 28.5780936, Validation MAE: 0.0686055, Test MAE: 0.0673799\n",
            "Epoch: 014, LR: 0.001000, Loss: 28.3948619, Validation MAE: 0.0683030, Test MAE: 0.0672095\n",
            "Epoch: 015, LR: 0.001000, Loss: 28.2981468, Validation MAE: 0.0678761, Test MAE: 0.0674909\n",
            "Epoch: 016, LR: 0.001000, Loss: 28.0466254, Validation MAE: 0.0681990, Test MAE: 0.0669369\n",
            "Epoch: 017, LR: 0.001000, Loss: 27.9365065, Validation MAE: 0.0671434, Test MAE: 0.0667323\n",
            "Epoch: 018, LR: 0.001000, Loss: 27.7958117, Validation MAE: 0.0680739, Test MAE: 0.0669858\n",
            "Epoch: 019, LR: 0.001000, Loss: 27.6634392, Validation MAE: 0.0679245, Test MAE: 0.0676065\n",
            "Epoch: 020, LR: 0.001000, Loss: 27.5030288, Validation MAE: 0.0677055, Test MAE: 0.0669125\n",
            "Epoch: 021, LR: 0.001000, Loss: 27.3768233, Validation MAE: 0.0681426, Test MAE: 0.0674851\n",
            "Epoch: 022, LR: 0.000500, Loss: 27.1069813, Validation MAE: 0.0670866, Test MAE: 0.0669052\n",
            "Epoch: 023, LR: 0.000500, Loss: 26.9170375, Validation MAE: 0.0674208, Test MAE: 0.0670706\n",
            "Epoch: 024, LR: 0.000500, Loss: 26.7810502, Validation MAE: 0.0681352, Test MAE: 0.0681613\n",
            "Epoch: 025, LR: 0.000500, Loss: 26.5262792, Validation MAE: 0.0678050, Test MAE: 0.0676777\n",
            "Epoch: 026, LR: 0.000500, Loss: 26.1666893, Validation MAE: 0.0678892, Test MAE: 0.0677221\n",
            "Epoch: 027, LR: 0.000250, Loss: 25.6697320, Validation MAE: 0.0673771, Test MAE: 0.0669815\n",
            "Epoch: 028, LR: 0.000250, Loss: 25.3741818, Validation MAE: 0.0675083, Test MAE: 0.0671301\n",
            "Epoch: 029, LR: 0.000250, Loss: 25.1279145, Validation MAE: 0.0675840, Test MAE: 0.0671234\n",
            "Epoch: 030, LR: 0.000250, Loss: 24.9476422, Validation MAE: 0.0676801, Test MAE: 0.0674129\n",
            "Epoch: 031, LR: 0.000125, Loss: 24.4798747, Validation MAE: 0.0674104, Test MAE: 0.0669074\n",
            "Epoch: 032, LR: 0.000125, Loss: 24.2972622, Validation MAE: 0.0673515, Test MAE: 0.0670492\n",
            "Epoch: 033, LR: 0.000125, Loss: 24.1586490, Validation MAE: 0.0674003, Test MAE: 0.0671957\n",
            "Epoch: 034, LR: 0.000125, Loss: 24.0335783, Validation MAE: 0.0674360, Test MAE: 0.0673297\n",
            "Epoch: 035, LR: 0.000063, Loss: 23.9392547, Validation MAE: 0.0673277, Test MAE: 0.0673821\n",
            "Epoch: 036, LR: 0.000063, Loss: 23.8180745, Validation MAE: 0.0673519, Test MAE: 0.0674411\n",
            "Epoch: 037, LR: 0.000063, Loss: 23.7402284, Validation MAE: 0.0673535, Test MAE: 0.0674908\n",
            "Epoch: 038, LR: 0.000063, Loss: 23.6664814, Validation MAE: 0.0673610, Test MAE: 0.0675458\n",
            "Epoch: 039, LR: 0.000031, Loss: 23.5712339, Validation MAE: 0.0674198, Test MAE: 0.0676529\n",
            "Epoch: 040, LR: 0.000031, Loss: 23.5194376, Validation MAE: 0.0674197, Test MAE: 0.0676724\n",
            "Epoch: 041, LR: 0.000031, Loss: 23.4718747, Validation MAE: 0.0674288, Test MAE: 0.0677057\n",
            "Epoch: 042, LR: 0.000031, Loss: 23.4283149, Validation MAE: 0.0674416, Test MAE: 0.0677378\n",
            "Epoch: 043, LR: 0.000016, Loss: 23.3958655, Validation MAE: 0.0674666, Test MAE: 0.0677644\n",
            "Epoch: 044, LR: 0.000016, Loss: 23.3603561, Validation MAE: 0.0674744, Test MAE: 0.0677725\n",
            "Epoch: 045, LR: 0.000016, Loss: 23.3354637, Validation MAE: 0.0674797, Test MAE: 0.0677855\n",
            "Epoch: 046, LR: 0.000016, Loss: 23.3127920, Validation MAE: 0.0674843, Test MAE: 0.0678026\n",
            "Epoch: 047, LR: 0.000010, Loss: 23.2984776, Validation MAE: 0.0674632, Test MAE: 0.0677591\n",
            "Epoch: 048, LR: 0.000010, Loss: 23.2697136, Validation MAE: 0.0674682, Test MAE: 0.0677686\n",
            "Epoch: 049, LR: 0.000010, Loss: 23.2548830, Validation MAE: 0.0674720, Test MAE: 0.0677800\n"
          ],
          "name": "stdout"
        }
      ]
    },
    {
      "cell_type": "code",
      "metadata": {
        "id": "4Hy-p0KkkELi",
        "colab_type": "code",
        "colab": {}
      },
      "source": [
        "targets = target(test_loader) # dictionary of real and predicted values"
      ],
      "execution_count": 0,
      "outputs": []
    },
    {
      "cell_type": "code",
      "metadata": {
        "id": "3YKMR1StiG5k",
        "colab_type": "code",
        "colab": {
          "base_uri": "https://localhost:8080/",
          "height": 606
        },
        "outputId": "2abd956e-270a-4ffc-ce11-5c388fdf28d3"
      },
      "source": [
        "import matplotlib.pylab as plt\n",
        "plt.figure(figsize=(10,10))\n",
        "lists = sorted(targets.items())\n",
        "\n",
        "x, y = zip(*lists) \n",
        "\n",
        "plt.scatter(x, y)\n",
        "x_coord = [-40,-30,-20,-10]\n",
        "y_coord = [-30, -27.5, -25, -22.5, -20, -17.5, -15]\n",
        "for x in x_coord:\n",
        "  plt.axvline(x=x, color='k')\n",
        "for y in y_coord:\n",
        "  plt.axhline(y=y, color='k')\n",
        "plt.xlabel('True_values')\n",
        "plt.ylabel('Pred_values')\n",
        "plt.show()"
      ],
      "execution_count": 47,
      "outputs": [
        {
          "output_type": "display_data",
          "data": {
            "image/png": "[encoded data removed]",
            "text/plain": [
              "<Figure size 720x720 with 1 Axes>"
            ]
          },
          "metadata": {
            "tags": []
          }
        }
      ]
    }
  ]
}